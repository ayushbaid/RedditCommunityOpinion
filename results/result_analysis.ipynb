{
 "cells": [
  {
   "cell_type": "code",
   "execution_count": 1,
   "metadata": {},
   "outputs": [],
   "source": [
    "import pandas as pd"
   ]
  },
  {
   "cell_type": "code",
   "execution_count": 35,
   "metadata": {},
   "outputs": [],
   "source": [
    "politics_df = pd.read_csv('politics_100000_completion.txt', sep=\",\")\n",
    "donald_df = pd.read_csv('the_donald_100000_completion.txt', sep=\",\")\n",
    "president_df = pd.read_csv('ourpresident_100000_completion.txt', sep=\",\")"
   ]
  },
  {
   "cell_type": "code",
   "execution_count": 36,
   "metadata": {},
   "outputs": [],
   "source": [
    "def get_rownums(df): return [i for i in range(df.shape[0]) if i%5 == 0]"
   ]
  },
  {
   "cell_type": "code",
   "execution_count": 47,
   "metadata": {},
   "outputs": [],
   "source": [
    "def get_reduced_csv(df,name): \n",
    "    df['useful'] = 0\n",
    "    return df[['sentence', 'useful']].loc[get_rownums(df)].reset_index(drop=True).to_csv(\"sampled_results/\"+(name)+\".csv\")"
   ]
  },
  {
   "cell_type": "code",
   "execution_count": 48,
   "metadata": {},
   "outputs": [],
   "source": [
    "get_reduced_csv(politics_df, \"politics\")\n",
    "get_reduced_csv(donald_df, \"donald\")\n",
    "get_reduced_csv(president_df, \"president\")"
   ]
  },
  {
   "cell_type": "code",
   "execution_count": null,
   "metadata": {},
   "outputs": [],
   "source": []
  }
 ],
 "metadata": {
  "kernelspec": {
   "display_name": "Python 3",
   "language": "python",
   "name": "python3"
  },
  "language_info": {
   "codemirror_mode": {
    "name": "ipython",
    "version": 3
   },
   "file_extension": ".py",
   "mimetype": "text/x-python",
   "name": "python",
   "nbconvert_exporter": "python",
   "pygments_lexer": "ipython3",
   "version": "3.7.6"
  }
 },
 "nbformat": 4,
 "nbformat_minor": 4
}
